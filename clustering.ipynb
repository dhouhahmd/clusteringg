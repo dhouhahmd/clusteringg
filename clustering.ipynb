{
  "nbformat": 4,
  "nbformat_minor": 0,
  "metadata": {
    "colab": {
      "provenance": [],
      "mount_file_id": "1GNyokVVMaBbKtHaNh5e7IABqBOeRlmcn",
      "authorship_tag": "ABX9TyPa7i2FseuCeGLqwjjtT6GR",
      "include_colab_link": true
    },
    "kernelspec": {
      "name": "python3",
      "display_name": "Python 3"
    },
    "language_info": {
      "name": "python"
    }
  },
  "cells": [
    {
      "cell_type": "markdown",
      "metadata": {
        "id": "view-in-github",
        "colab_type": "text"
      },
      "source": [
        "<a href=\"https://colab.research.google.com/github/dhouhahmd/clusteringg/blob/main/clustering.ipynb\" target=\"_parent\"><img src=\"https://colab.research.google.com/assets/colab-badge.svg\" alt=\"Open In Colab\"/></a>"
      ]
    },
    {
      "cell_type": "code",
      "source": [],
      "metadata": {
        "id": "PBnKj51uPC1w"
      },
      "execution_count": null,
      "outputs": []
    },
    {
      "cell_type": "code",
      "source": [
        "import pandas as pd\n",
        "from sklearn.feature_extraction.text import TfidfVectorizer\n",
        "from sklearn.cluster import KMeans\n",
        "\n",
        "# Données des sites web\n",
        "data = [\n",
        "    {'URL': 'http://elbalad.news',\n",
        "     'Contenu': 'بمناسبة اليوم العالمى للحماية المدنية، تسلم اللواء أحمد راشد محافظ الجيزة درع تكريم من الإدارة العامة للحماية المدنية وذلك نظير مجهوداته لدعم منظومة العمل بالمحافظة.',\n",
        "     'Titre': 'elbalad news',\n",
        "     'Date': '11/03/2023'},\n",
        "    {'URL': 'http://ebaladtv.net',\n",
        "     'Contenu': 'ومثلت مبيعات هيونداي أيونيك 5 في أغسطس الماضي حوالي 2.4% من إجمالي مبيعات هيونداي وسبب الانخفاض هو نقص الإمدادات التي تؤثر على الإنتاج، وحتى الآن تجاوزت مبيعات السيارة في أمريكا 17 ألف سيارة أي حوالي 3.7% من المبيعات الإجمالية، ولا يزال الطراز الكوري الجنوبي على المسار الصحيح ليتجاوز 25 ألف سيارة يتم بيعها في أمريكا.',\n",
        "     'Titre': 'ebaladtv.net',\n",
        "     'Date': '12/2/2024'}\n",
        "]\n",
        "\n",
        "# Création d'un DataFrame pandas\n",
        "df = pd.DataFrame(data)\n",
        "\n",
        "# Écrire les données dans un fichier CSV\n",
        "df.to_csv('donnees_sites_web.csv', index=False)\n",
        "\n",
        "# Vectorisation des fonctionnalités textuelles\n",
        "vectorizer = TfidfVectorizer(stop_words='english')\n",
        "X = vectorizer.fit_transform(df['Contenu'])\n",
        "\n",
        "# Clustering des pages web\n",
        "kmeans = KMeans(n_clusters=2)\n",
        "kmeans.fit(X)\n",
        "\n",
        "# Ajouter les labels de cluster au DataFrame\n",
        "df['Cluster'] = kmeans.labels_\n",
        "\n",
        "# Affichage des résultats\n",
        "print(df)\n",
        "\n",
        "# Affichage des mots-clés importants par cluster\n",
        "print(\"\\nMots-clés importants par cluster:\")\n",
        "order_centroids = kmeans.cluster_centers_.argsort()[:, ::-1]\n",
        "terms = vectorizer.get_feature_names_out()\n",
        "for i in range(2):\n",
        "    print(f\"Cluster {i}:\")\n",
        "    for ind in order_centroids[i, :10]:\n",
        "        print(f\"{terms[ind]}\")\n"
      ],
      "metadata": {
        "colab": {
          "base_uri": "https://localhost:8080/"
        },
        "id": "ZX1ZYDhmXIds",
        "outputId": "6d560ac5-f11b-4298-9963-476ef7daa65a"
      },
      "execution_count": null,
      "outputs": [
        {
          "output_type": "stream",
          "name": "stdout",
          "text": [
            "                   URL                                            Contenu  \\\n",
            "0  http://elbalad.news  بمناسبة اليوم العالمى للحماية المدنية، تسلم ال...   \n",
            "1  http://ebaladtv.net  ومثلت مبيعات هيونداي أيونيك 5 في أغسطس الماضي ...   \n",
            "\n",
            "          Titre        Date  Cluster  \n",
            "0  elbalad news  11/03/2023        1  \n",
            "1  ebaladtv.net   12/2/2024        0  \n",
            "\n",
            "Mots-clés importants par cluster:\n",
            "Cluster 0:\n",
            "مبيعات\n",
            "في\n",
            "على\n",
            "ألف\n",
            "أمريكا\n",
            "سيارة\n",
            "هيونداي\n",
            "حوالي\n",
            "من\n",
            "السيارة\n",
            "Cluster 1:\n",
            "للحماية\n",
            "المدنية\n",
            "بالمحافظة\n",
            "العالمى\n",
            "اللواء\n",
            "اليوم\n",
            "الجيزة\n",
            "بمناسبة\n",
            "تسلم\n",
            "تكريم\n"
          ]
        },
        {
          "output_type": "stream",
          "name": "stderr",
          "text": [
            "/usr/local/lib/python3.10/dist-packages/sklearn/cluster/_kmeans.py:870: FutureWarning: The default value of `n_init` will change from 10 to 'auto' in 1.4. Set the value of `n_init` explicitly to suppress the warning\n",
            "  warnings.warn(\n"
          ]
        }
      ]
    },
    {
      "cell_type": "code",
      "source": [],
      "metadata": {
        "id": "dbiS58ZEaFHI"
      },
      "execution_count": null,
      "outputs": []
    },
    {
      "cell_type": "code",
      "source": [],
      "metadata": {
        "id": "QhnI7mjpZK4G"
      },
      "execution_count": null,
      "outputs": []
    }
  ]
}